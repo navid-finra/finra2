{
 "cells": [
  {
   "cell_type": "code",
   "execution_count": null,
   "id": "614c5028",
   "metadata": {
    "vscode": {
     "languageId": "plaintext"
    }
   },
   "outputs": [],
   "source": [
    "import sys\n",
    "sys.path.append('/opt/deep_learning/utilities')\n",
    "\n",
    "from spark_setup import SetupEnvironment\n",
    "environment = SetupEnvironment (\n",
    "    \n",
    "                    conda_env = 'my_env', # should match with jupyter kernel used (e.g. my_env or deep_Learning)\n",
    "\n",
    "                    project_name = 'NoLivyExampleProject', # defaults to Domino project name if not set\n",
    "\n",
    "                    additional_settings= {\n",
    "\n",
    "                                #\"spark.executor.memory\" : \"130G\",\n",
    "                                \"spark.driver.memory\": \"130G\", #THIS NEEDS TO BE SET FOR 3.1 TO HAVE ADEQUATE SPACE TO READ D8 tO PANDAS\n",
    "                                #\"spark.executor.cores\": \"2\",\n",
    "                                #cores max == 24 instances * 20 each(large) * 0.8 = rough384\n",
    "                                #\"spark.cores.max\": \"180\",\n",
    "                                #\"spark.driver.memoryOverhead\":\"20G\", \n",
    "                                #\"spark.executor.memoryOverhead\": \"20G\",\n",
    "                                #\"spark.sql.autoBroadcastJoinThrishold\":\"-1\",\n",
    "                                #\"spark.sql.shuffle.partitions\": \"200\", \n",
    "                                #'spark.shuffle.service.enabled' : 'true',\n",
    "                                #'spark.excludeOnFailure.enabled' : 'true',\n",
    "                                #'spark.excludeOnFailure.application.fetchFailure,enabled';'true' \n",
    "                                #\"spark.executorEnv.PYARROW_IGNORE_TIMEZONE\":\"1\", \n",
    "                                #\"spark.sql.execution.arrow.pyspark.enabled\";'true', \n",
    "                                #\"spark.sql.execution.arrow.pyspark.fallback.enabled\":'true'\n",
    "                    } # additional spark configuration (optional)\n",
    "            )\n",
    "spark = environment.setup_spark()\n",
    "dcRead = environment.setup_DataCatalog()\n",
    "s3 = environment.setup_s3()"
   ]
  },
  {
   "cell_type": "markdown",
   "id": "93eda028",
   "metadata": {
    "vscode": {
     "languageId": "plaintext"
    }
   },
   "source": [
    "### Import Functions"
   ]
  },
  {
   "cell_type": "code",
   "execution_count": null,
   "id": "f9a469ea",
   "metadata": {
    "vscode": {
     "languageId": "plaintext"
    }
   },
   "outputs": [],
   "source": [
    "import s3fs\n",
    "import pickle \n",
    "import pyarrow \n",
    "import os \n",
    "import sys\n",
    "import pandas as pd \n",
    "import datetime \n",
    "import numpy as np\n",
    "from pyarrow import parquet as pa \n",
    "import ison\n",
    "from tensorflow import keras \n",
    "from tensorflow.keras import layers \n",
    "from matplotlib import pyplot as plt \n",
    "import pyspark.sql.functions as F\n",
    "pd.set_option('display.max_rows', None)"
   ]
  },
  {
   "cell_type": "code",
   "execution_count": null,
   "id": "c161c40e",
   "metadata": {
    "vscode": {
     "languageId": "plaintext"
    }
   },
   "outputs": [],
   "source": [
    "# vizualization modules\n",
    "from plotly.offline import download_plotlyjs, plot, iplot \n",
    "import plotly.graph_objs as go \n",
    "import plotly.io as pio \n",
    "from plotly.subplots import make_subplots\n",
    "from plotly.offline import download_plotlyjs, init_notebook_mode, plot, iplot"
   ]
  },
  {
   "cell_type": "code",
   "execution_count": null,
   "id": "9f5928c9",
   "metadata": {},
   "outputs": [],
   "source": [
    "from keras.models import load_model"
   ]
  },
  {
   "cell_type": "code",
   "execution_count": null,
   "id": "4e66b93b",
   "metadata": {},
   "outputs": [],
   "source": [
    "def read_pipeline_parquet(s3a_bucket_str, dataframe_name, date_start, date_end=None, verbose=False, version=None):\n",
    "\n",
    "    #reads loaded data into parquet for future consumption \n",
    "    \n",
    "    if date_start == None:\n",
    "        file_path = s3a_bucket_str+dataframe_name \n",
    "    elif date_end != None:\n",
    "        file_path = s3a_bucket_str+dataframe_name+'_{}'.format(date_start)+'_{}'.format(date_end)\n",
    "    else:\n",
    "        file_path = s3a_bucket_str+dataframe_name+'_{}'.format(date_start)\n",
    "\n",
    "    if verbose==True:\n",
    "        print(f'Reading from {file_patht}')\n",
    "    else:\n",
    "        pass\n",
    "    if version == None:\n",
    "        pass\n",
    "    else:\n",
    "        file_path =file_path +'_v'+str(version)\n",
    "    new_file = spark.read.parquet(file_path)\n",
    "    return new_file"
   ]
  },
  {
   "cell_type": "code",
   "execution_count": null,
   "id": "46e23588",
   "metadata": {},
   "outputs": [],
   "source": [
    "#For Reading/Writing\n",
    "PROBE DATE = '2022-01-20'\n",
    "CURRENT_VERSION = 0\n",
    "BUCKET_STRING= 's3a://9262-4648-2427-mrp-cat-kms/users/K30577/'\n",
    "RANDOM_SEED = 42\n",
    "TRAIN_PROPORTION = 0.75\n",
    "#SLICES = 6 #(chosen in last step of process)"
   ]
  },
  {
   "cell_type": "markdown",
   "id": "7ffee69b",
   "metadata": {},
   "source": [
    "### Load Data Samples for Testing/Analysis"
   ]
  },
  {
   "cell_type": "code",
   "execution_count": null,
   "id": "9ab720d4",
   "metadata": {},
   "outputs": [],
   "source": [
    "#Sampling Method 1\n",
    "\n",
    "Final_IV_Data_Sample = read_pipeline_parquet(BUCKET_STRING, \"actrain9_IV_normalized_rows_100_1ea\",PROBE_DATE, version=CURRENT_VERSION)"
   ]
  },
  {
   "cell_type": "code",
   "execution_count": null,
   "id": "17932285",
   "metadata": {},
   "outputs": [],
   "source": [
    "Final_IV_Data_Sample"
   ]
  },
  {
   "cell_type": "code",
   "execution_count": null,
   "id": "cfdf9cb9",
   "metadata": {},
   "outputs": [],
   "source": [
    "#Sampling Method 2\n",
    "\n",
    "Final_IV_Data_Sample = read_pipeline_parquet(BUCKET_STRING,\"actrain9_IV_normalized_rows_005\", PROBE_DATE, version=CURRENT_VERSION)"
   ]
  },
  {
   "cell_type": "code",
   "execution_count": null,
   "id": "c1950dbe",
   "metadata": {},
   "outputs": [],
   "source": [
    "Final_IV_Data_Sample"
   ]
  },
  {
   "cell_type": "markdown",
   "id": "dbda2afd",
   "metadata": {},
   "source": [
    "### Convert to Pandas, Clean Data, Split into Test and Valdiation Sets"
   ]
  },
  {
   "cell_type": "code",
   "execution_count": null,
   "id": "8ac62d1a",
   "metadata": {},
   "outputs": [],
   "source": [
    "Final_IV_Data_Sample_Pre_PD = Final_IV_Data_Sample.select('chain_id', 'all_items')"
   ]
  },
  {
   "cell_type": "code",
   "execution_count": null,
   "id": "9642f912",
   "metadata": {},
   "outputs": [],
   "source": [
    "Final_IV_Data_Sample_PD = Final_IV_Data_Sample_Pre_PD.toPandas()"
   ]
  },
  {
   "cell_type": "code",
   "execution_count": null,
   "id": "029b7ee5",
   "metadata": {},
   "outputs": [],
   "source": [
    "Final_IV_Data_Sample_PD.describe()"
   ]
  },
  {
   "cell_type": "code",
   "execution_count": null,
   "id": "ccd271e9",
   "metadata": {},
   "outputs": [],
   "source": [
    "pd.DataFrame(Final_IV_Data_Sample_PD.isna().sum()[Final_IV_Data_Sample_PD.isna().sum() > 0], columns = ['count nan values'])"
   ]
  },
  {
   "cell_type": "code",
   "execution_count": null,
   "id": "1394e8b5",
   "metadata": {},
   "outputs": [],
   "source": [
    "Final_IV_Data_Sample_PD.info()"
   ]
  },
  {
   "cell_type": "code",
   "execution_count": null,
   "id": "b05e9851",
   "metadata": {},
   "outputs": [],
   "source": [
    "Final_IV_Data_Sample_PD['np_items'] = Final_IV_Data_Sample_PD['all_items'].to_numpy()\n",
    "Final_IV_Data_Sample_PD['np_items_1st'] = Final_IV_Data_Sample_PD['np_items'].str[0]\n",
    "Final_IV_Data_Sample_PD_DeNan = Final_IVIData_Sample_PD[Final_IV_Data_Sample_PD['np_items_1st'].isna()==False]"
   ]
  },
  {
   "cell_type": "code",
   "execution_count": null,
   "id": "40a19451",
   "metadata": {},
   "outputs": [],
   "source": [
    "Final_IV_Data_Sample_PD_DeNan.describe()"
   ]
  },
  {
   "cell_type": "code",
   "execution_count": null,
   "id": "feabc3a0",
   "metadata": {},
   "outputs": [],
   "source": [
    "pd.DataFrame(Final_IV_Data_Sample_PD_DeNan.isna().sum()[Final_IV_Data_Sample_PD_DeNan.isna().sum() > 0], columns = ['count nan values'])"
   ]
  },
  {
   "cell_type": "code",
   "execution_count": null,
   "id": "934dd5aa",
   "metadata": {},
   "outputs": [],
   "source": [
    "Final_IV_Data_Sample_PD_DeNan.info()"
   ]
  },
  {
   "cell_type": "code",
   "execution_count": null,
   "id": "137291fe",
   "metadata": {},
   "outputs": [],
   "source": [
    "num_events = len(Final_IV_Data_Sample_PD_DeNan)"
   ]
  },
  {
   "cell_type": "code",
   "execution_count": null,
   "id": "bd9ff921",
   "metadata": {},
   "outputs": [],
   "source": [
    "train_val_df = Final_TV_Data_Sample_PD_DeNan.sample(frac=1, random_state = RANDOM_SEED).reset_index()\n",
    "train_df = train_val_df.loc[: int (TRAIN_PROPORTION*num_events)]\n",
    "val_df = train_val_df.loc[int (TRAIN_PROPORTION*num_events)+1:]\n"
   ]
  },
  {
   "cell_type": "code",
   "execution_count": null,
   "id": "32f6db9c",
   "metadata": {},
   "outputs": [],
   "source": [
    "X_train = np.stack(train_df['all_items'].to_numpy(), axis=0)\n",
    "X_train = X_train.reshape(*(list(X_train.shape)+[1]))"
   ]
  },
  {
   "cell_type": "code",
   "execution_count": null,
   "id": "e2588648",
   "metadata": {},
   "outputs": [],
   "source": [
    "X_train"
   ]
  },
  {
   "cell_type": "code",
   "execution_count": null,
   "id": "39cd13d6",
   "metadata": {
    "vscode": {
     "languageId": "plaintext"
    }
   },
   "outputs": [],
   "source": [
    "X_val = np.stack(vat_df['all_items'].to_numpy(), axis=0)\n",
    "X_val = x_val.reshape(*(list(X_val.shape)+[1]))"
   ]
  },
  {
   "cell_type": "code",
   "execution_count": null,
   "id": "4772fb2c",
   "metadata": {},
   "outputs": [],
   "source": [
    "X_val"
   ]
  },
  {
   "cell_type": "markdown",
   "id": "8d227ce9",
   "metadata": {},
   "source": [
    "### Load Retraining Candidate Models (AC1) and Prototype Model (ACO)"
   ]
  },
  {
   "cell_type": "code",
   "execution_count": null,
   "id": "e78762b0",
   "metadata": {},
   "outputs": [],
   "source": [
    "AC0 = load_model('AC0')"
   ]
  },
  {
   "cell_type": "code",
   "execution_count": null,
   "id": "73c35dd9",
   "metadata": {},
   "outputs": [],
   "source": [
    "AC0.summary()"
   ]
  },
  {
   "cell_type": "code",
   "execution_count": null,
   "id": "134b57bc",
   "metadata": {},
   "outputs": [],
   "source": [
    "AC1_1 =Load_model('autoencoder_retrain_1')\n",
    "AC1_2 = load_mode ('autoencoder_retrain_2')\n",
    "AC1_3 = load_model('autoencoder_retrain_3')\n"
   ]
  },
  {
   "cell_type": "code",
   "execution_count": null,
   "id": "efff8cea",
   "metadata": {},
   "outputs": [],
   "source": [
    "AC1_1.summary()"
   ]
  },
  {
   "cell_type": "code",
   "execution_count": null,
   "id": "07bb6f03",
   "metadata": {},
   "outputs": [],
   "source": [
    "AC1_2.summary()"
   ]
  },
  {
   "cell_type": "code",
   "execution_count": null,
   "id": "02d6b402",
   "metadata": {},
   "outputs": [],
   "source": [
    "AC1_3.summary()"
   ]
  },
  {
   "cell_type": "markdown",
   "id": "b04d1778",
   "metadata": {},
   "source": [
    "### Generate Model Predictions for Validation Set and MAE Scores for Individual Observations (SubWindows)"
   ]
  },
  {
   "cell_type": "code",
   "execution_count": null,
   "id": "89b768a5",
   "metadata": {},
   "outputs": [],
   "source": [
    "AC0_Pred = AC0.predict(X_val)\n",
    "AC0_mae_loss = np.mean(np.abs(AC0_Pred - X_val), axis=1).flatten()"
   ]
  },
  {
   "cell_type": "code",
   "execution_count": null,
   "id": "de595699",
   "metadata": {},
   "outputs": [],
   "source": [
    "AC1_1_Pred = AC1_1.predict(X_val)\n",
    "AC1_1_mae_loss = np.mean(np.abs (AC1_1_Pred - X_val), axis=1).flatten()\n"
   ]
  },
  {
   "cell_type": "code",
   "execution_count": null,
   "id": "5115f601",
   "metadata": {},
   "outputs": [],
   "source": [
    "AC1_2_Pred = AC1_2.predict(X_val)\n",
    "AC1_2_mae_loss = np.mean(np.abs(AC1_2_Pred - X_val), axis=1).flatten()"
   ]
  },
  {
   "cell_type": "code",
   "execution_count": null,
   "id": "b3db6072",
   "metadata": {},
   "outputs": [],
   "source": [
    "AC1_3_Pred = AC1_3.predict(X_ val)\n",
    "AC1_3_mae_loss = np.mean(np.abs(AC1_3_Pred - X_val), axis=1).flatten()"
   ]
  },
  {
   "cell_type": "markdown",
   "id": "2f27adb3",
   "metadata": {},
   "source": [
    "### Create Pandas Data Frame With MAE Scores by Observation"
   ]
  },
  {
   "cell_type": "code",
   "execution_count": null,
   "id": "babd57ec",
   "metadata": {},
   "outputs": [],
   "source": [
    "MAE_Comparison = pd.DataFrame({'AC0_MAE' :AC0_mae_Loss, 'AC1_1_MAE': AC1_1_mae_loss, 'AC1_2_MAE':AC1_2_mae_Loss, 'AC1_3_MAE' :AC1_3_mae_loss})"
   ]
  },
  {
   "cell_type": "code",
   "execution_count": null,
   "id": "0087ddbc",
   "metadata": {},
   "outputs": [],
   "source": [
    "MAE_Comparison"
   ]
  },
  {
   "cell_type": "markdown",
   "id": "73f72bfb",
   "metadata": {
    "vscode": {
     "languageId": "plaintext"
    }
   },
   "source": [
    "### Look at Scatterplot of Two Sets of Observations for Subset of Data"
   ]
  },
  {
   "cell_type": "code",
   "execution_count": null,
   "id": "e0e6d284",
   "metadata": {
    "vscode": {
     "languageId": "plaintext"
    }
   },
   "outputs": [],
   "source": [
    "SAMPLE_SIZE = 10000\n",
    "MAE_Comparison_Sample = MAE_Comparison.sample(SAMPLE_SIZE)\n",
    "fig = go.Figure(data=go.Scatter(x=MAE_Comparison_Sample['AC1_2_MAE'], y=MAE_Comparison_Sample['AC0_MAE'], mode = 'markers'))\n",
    "fig.update_yaxes(title = 'Old AC Score')\n",
    "fig.update_xaxes(title = 'New AC Score')\n",
    "fig.show()"
   ]
  },
  {
   "cell_type": "markdown",
   "id": "12827dda",
   "metadata": {},
   "source": [
    "### Look at Individual Trace for Randomly Chosen Rows"
   ]
  },
  {
   "cell_type": "code",
   "execution_count": null,
   "id": "0c84bfb3",
   "metadata": {},
   "outputs": [],
   "source": [
    "RandomRow = MAE_Comparison.sample(1)\n",
    "\n",
    "Random_AC1_3 = RandomRow['AC1_3_MAE'].iloc(0)[0]\n",
    "Random_AC1_2 = RandomRow['AC1_2_MAE'].iloc(0)[0]\n",
    "Random_AC1_1 = RandomRow[' AC1_1_MAE'].iloc(0)[0]\n",
    "Random_AC0 = RandomRow['ACO_MAE'].iloc(0)[0]\n",
    "#Random_ACNew = RandomRow['ACNew_Mae'].iloc(0)[0]\n",
    "RandomCase = RandomRow.index[0]\n",
    "Case = RandomCase\n",
    "Actuals = X_val[Case]\n",
    "AC0s = AC0_Pred[Case]\n",
    "AC1_1s = AC1_1_Pred[Case]\n",
    "AC1_2s = AC1_2_Pred[Case]\n",
    "AC1_3s = AC1_3_Pred[Case]\n",
    "ActualsArray = []\n",
    "AC0sArray= []\n",
    "AC1_1sArray= []\n",
    "AC1_2sArray= []\n",
    "AC1_3sArray= []\n",
    "StepsArray = []\n",
    "for x in range (0,120):\n",
    "    ActualsArray.append(Actuals[x][0])\n",
    "    AC0sArray.append(AC0s[x][0])\n",
    "    AC1_1sArray.append(AC1_1s[x][0])\n",
    "    AC1_2sArray.append(AC1_2s[x][1])\n",
    "    AC1_3sArray.append(AC1_3s[x][0])\n",
    "    StepsArray.append(x+1)\n",
    "fig = go.Figure()  \n",
    "# Add traces\n",
    "fig.add_trace(\n",
    "    go.Scatter(x=StepsArray, y=ActualsArray, name=\"Actuals\", mode= 'lines+markers'), \n",
    "              )\n",
    "fig.add_trace(\n",
    "    go.Scatter(x=StepsArray, y=Ac0sArray, name=\"AC0s\", mode= \"lines+markers\"),\n",
    "             )\n",
    "fig.add_trace(\n",
    "    go.Scatter(x=StepsArray, y=AC1_1sArray, name=\"AC1_1s\", mode= 'lines+markers'),\n",
    "            )\n",
    "fig.add_trace(\n",
    "    go.Scatter(x=StepsArray, y = AC1_2sArray, name=\"AC1_2s\", mode= 'lines+markers') , \n",
    "            )\n",
    "fig.add_trace(\n",
    "    go.Scatter(x=StepsArray, y = AC1_3sArray, name=\"AC1_3s\", mode= 'lines+markers') , \n",
    "            )\n",
    "\n",
    "#fig.update_yaxes(range= [0,1])\n",
    "fig.update_layout(title = 'AC_0 MAE:'+str(Random_AC0) +'   \\t AC_1_1 MAE:'+str(Random_AC1_1)+'   \\t AC_1_2 MAE:'+str(Random_AC1_2)+'   \\t AC_1_3 MAE:'+str(Random_AC1_3))\n",
    "fig.show()\n"
   ]
  },
  {
   "cell_type": "markdown",
   "id": "cb55bdbe",
   "metadata": {},
   "source": [
    "### Look at Cross Tabs of Original AC and Candidate Replacements"
   ]
  },
  {
   "cell_type": "code",
   "execution_count": null,
   "id": "c6636b50",
   "metadata": {},
   "outputs": [],
   "source": [
    "MAE_CUTOFF = 0.015"
   ]
  },
  {
   "cell_type": "code",
   "execution_count": null,
   "id": "f007c1aa",
   "metadata": {},
   "outputs": [],
   "source": [
    "MAE_Comparison['AC0_Pos'] = MAE_Comparison['AC0_MAE'] > MAE_CUTOFF\n",
    "MAE Comparison['AC1_1_Pos'] = MAE_Comparison['AC1_1_MAE'] > MAE_CUTOFF\n",
    "MAE_Comparison['AC1_2_Pos'] = MAE_Comparison['AC1_2 MAE'] > MAE_CUTOFF\n",
    "MAE_Comparison['AC1_3_Pos'] = MAE_Comparison['AC1_3_MAE'] > NAE_CUTOFF\n"
   ]
  },
  {
   "cell_type": "code",
   "execution_count": null,
   "id": "7c201049",
   "metadata": {},
   "outputs": [],
   "source": [
    "pd.crosstab(MAE_Comparison['AC0_Pos'] ,MAE_Comparison['AC1_1 _Pos'])"
   ]
  },
  {
   "cell_type": "code",
   "execution_count": null,
   "id": "bf613fd6",
   "metadata": {},
   "outputs": [],
   "source": [
    "pd.crosstab(MAE_Comparison[\"AC0_Pos\"],MAE_Comparison['AC1_2_Pos'])"
   ]
  },
  {
   "cell_type": "code",
   "execution_count": null,
   "id": "f5cd6229",
   "metadata": {},
   "outputs": [],
   "source": [
    "pd.crosstab(MAE_Comparison['AC0_Pos'] ,MAE_Comparison['AC1_3_Pos'])"
   ]
  },
  {
   "cell_type": "markdown",
   "id": "312a4116",
   "metadata": {},
   "source": [
    "### Save favored model as AC1"
   ]
  },
  {
   "cell_type": "code",
   "execution_count": null,
   "id": "1fec5313",
   "metadata": {},
   "outputs": [],
   "source": [
    "#AC1_2.save(\"AC1\")"
   ]
  },
  {
   "cell_type": "code",
   "execution_count": null,
   "id": "d3ac43f1",
   "metadata": {},
   "outputs": [],
   "source": [
    "model = load_model('AC0')"
   ]
  },
  {
   "cell_type": "code",
   "execution_count": null,
   "id": "50443331",
   "metadata": {},
   "outputs": [],
   "source": [
    "model_ts = datetime.datetime.now()\n",
    "EPOCHS = 10\n",
    "BATCH_SIZE = 2048*2\n",
    "\n",
    "history = model.fit(\n",
    "\n",
    "    X_train, \n",
    "    X_train, \n",
    "    epochs=EPOCHS, \n",
    "    batch_size=BATCH_SIZE, \n",
    "    validation_data=(X_val,X_val), \n",
    "    callbacks=[\n",
    "            keras.callbacks.EarlyStopping(monitor=\"val_loss\", patience=2, mode =\"min\")\n",
    "            ]\n",
    ")"
   ]
  },
  {
   "cell_type": "code",
   "execution_count": 1,
   "id": "59c52e70",
   "metadata": {},
   "outputs": [],
   "source": [
    "### validation"
   ]
  },
  {
   "cell_type": "code",
   "execution_count": null,
   "id": "84889fa0",
   "metadata": {},
   "outputs": [],
   "source": [
    "from sklearn.datasets import make_classification\n",
    "from sklearn.model_selection import train_test_split\n",
    "from sklearn.preprocessing import MinMaxScaler\n",
    "import keras\n",
    "import tensorflow as tf\n",
    "from sklearn.metrics import r2_score, mean_squared_error, mean_absolute_error\n",
    "from sklearn.multioutput import MultiOutputRegressor\n",
    "from sklearn.linear_model import Ridge\n",
    "from scipy.stats import chi2_contingency\n",
    "import numpy as np\n",
    "import pandas as pd\n",
    "import matplotlib.pyplot as plt\n",
    "plt.figure(figsize=(12,6))\n",
    "plt.style.use('dark_background')\n",
    "import warnings\n",
    "warnings.filterwarnings('ignore')\n"
   ]
  },
  {
   "cell_type": "code",
   "execution_count": null,
   "id": "7664a6ea",
   "metadata": {},
   "outputs": [],
   "source": [
    "plt.plot(history.history['loss'], c = 'b', label='train')\n",
    "plt.plot(history.history['val_loss'], c = 'y', label='validation')\n",
    "plt.legend()\n",
    "plt.title(\"Reconstruction Loss \")\n",
    "plt.xlabel(\"Epochs\")\n",
    "plt.ylabel(\"MAE\")\n",
    "plt.show()"
   ]
  },
  {
   "cell_type": "code",
   "execution_count": null,
   "id": "0be8a21b",
   "metadata": {},
   "outputs": [],
   "source": [
    "mets = []\n",
    "train = []\n",
    "val = []\n",
    "\n",
    "mets.append('mean_squared_error')\n",
    "train.append(mean_squared_error(x_train, x_train_pred))\n",
    "val.append(mean_squared_error(x_val, x_val_pred))\n",
    "\n",
    "mets.append('mean_absolute_error')\n",
    "train.append(mean_absolute_error(x_train, x_train_pred))\n",
    "val.append(mean_absolute_error(x_val, x_val_pred))\n",
    "\n",
    "mets.append('r2_multi_output_regres')\n",
    "train.append(MultiOutputRegressor(Ridge(random_state=123)).fit(x_train, x_train_pred).score(x_train, x_train_pred))\n",
    "val.append(MultiOutputRegressor(Ridge(random_state=123)).fit(x_val, x_val_pred).score(x_val, x_val_pred))\n",
    "\n",
    "mets.append('r2_sklearn')\n",
    "train.append(r2_score(x_train, x_train_pred))\n",
    "val.append(r2_score(x_val, x_val_pred))\n",
    "\n",
    "metrics = pd.DataFrame({'metrics' : mets, 'train_set' : train, 'validation_set' : val })\n",
    "metrics"
   ]
  },
  {
   "cell_type": "code",
   "execution_count": null,
   "id": "56156fa2",
   "metadata": {},
   "outputs": [],
   "source": [
    "data = [x_train.tolist(), x_train_pred.tolist()]\n",
    "chi_square_dict = {'stats':chi2_contingency(data)[0], 'p':chi2_contingency(data)[1],'dof':chi2_contingency(data)[2]}\n",
    "print(f'train_chi2_contingency: \\n {chi_square_dict}')"
   ]
  },
  {
   "cell_type": "code",
   "execution_count": null,
   "id": "05728759",
   "metadata": {},
   "outputs": [],
   "source": [
    "data = [x_val.tolist(), x_val_pred.tolist()]\n",
    "chi_square_dict = {'stats':chi2_contingency(data)[0], 'p':chi2_contingency(data)[1],'dof':chi2_contingency(data)[2]}\n",
    "print(f'validation_chi2_contingency: \\n {chi_square_dict}')"
   ]
  }
 ],
 "metadata": {
  "kernelspec": {
   "display_name": "Python 3 (ipykernel)",
   "language": "python",
   "name": "python3"
  },
  "language_info": {
   "codemirror_mode": {
    "name": "ipython",
    "version": 3
   },
   "file_extension": ".py",
   "mimetype": "text/x-python",
   "name": "python",
   "nbconvert_exporter": "python",
   "pygments_lexer": "ipython3",
   "version": "3.9.12"
  }
 },
 "nbformat": 4,
 "nbformat_minor": 5
}
