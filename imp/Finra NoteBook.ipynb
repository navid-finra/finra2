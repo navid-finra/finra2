{
 "cells": [
  {
   "cell_type": "code",
   "execution_count": null,
   "id": "a45e71ee",
   "metadata": {},
   "outputs": [],
   "source": [
    "from finra_classes_main import finra , cluster\n",
    "from feature_redundancy import feature_redundancy\n",
    "from balance import balance\n",
    "from error_analysis import err_cluster\n",
    "from decision_tree import decision_tree_class\n",
    "from Analysis import Analysis\n",
    "from Sensitivity_Analysis import Sensitivity_Analysis_class\n",
    "from edge_case import edge_case\n",
    "from continuous_variable import continuous_variable"
   ]
  },
  {
   "cell_type": "code",
   "execution_count": null,
   "id": "86899d21",
   "metadata": {},
   "outputs": [],
   "source": [
    "import pandas as pd\n",
    "import argparse\n",
    "import logging\n",
    "import pickle\n",
    "\n",
    "parser = argparse.ArgumentParser()\n",
    "parser.add_argument('--input_data_path', type=str, required=True)\n",
    "parser.add_argument('--train_split_index', type=int, required=True)\n",
    "parser.add_argument('--labels_column', type=str, required=True)\n",
    "parser.add_argument('--model_path', type=str)\n",
    "parser.add_argument('--pickle_in', type=str, required=True)"
   ]
  },
  {
   "cell_type": "code",
   "execution_count": null,
   "id": "6cf3d124",
   "metadata": {},
   "outputs": [],
   "source": [
    "plt.style.use('darak_background')"
   ]
  },
  {
   "cell_type": "code",
   "execution_count": null,
   "id": "f6a6d73e",
   "metadata": {},
   "outputs": [],
   "source": [
    "args = parser.parse_args()\n",
    "train_split_index = args.train_split_index\n",
    "labels_column = args.labels_column\n",
    "model_path = args.model_path\n",
    "dbfile = open(args.pickle_in, 'rb') \n",
    "model = pickle.load(dbfile)\n",
    "df = pd.read_csv(args.input_data_path, index_col=0).reset_index(drop=True)"
   ]
  },
  {
   "cell_type": "code",
   "execution_count": null,
   "id": "df4434b3",
   "metadata": {},
   "outputs": [],
   "source": [
    "finra_class = finra(df,train_split_index,labels_column,model)\n",
    "cluster_ = cluster(df,train_split_index,labels_column,model)\n",
    "feature_redundancy_ = feature_redundancy(df,train_split_index,labels_column,model)\n",
    "balance_ = balance(df,train_split_index,labels_column,model)\n",
    "err_cluster_ = err_cluster(df,train_split_index,labels_column,model)\n",
    "decision_tree_ = decision_tree_class(df,train_split_index,labels_column,model)\n",
    "Analysis_ = Analysis(df,train_split_index,labels_column,model)\n",
    "Sensitivity_Analysis_ = Sensitivity_Analysis_class(df,train_split_index,labels_column,model)\n",
    "Edge_case_ = edge_case(df,train_split_index,labels_column,model)\n",
    "continuous_variable_ = continuous_variable(df,train_split_index,labels_column,model)"
   ]
  },
  {
   "cell_type": "markdown",
   "id": "a443afe8",
   "metadata": {},
   "source": [
    "## Main Class"
   ]
  },
  {
   "cell_type": "code",
   "execution_count": null,
   "id": "0381c1f7",
   "metadata": {},
   "outputs": [],
   "source": [
    "finra_calsses_main_ = finra_calsses_main.finra(df, train_split_index, labels_column, model)\n",
    "cluster_ = finra_calsses_main.cluster(df, train_split_index, labels_column, model)\n",
    "cluster_.number_of_cluster()"
   ]
  },
  {
   "cell_type": "markdown",
   "id": "7d3b0fe4",
   "metadata": {},
   "source": [
    "### Feature Redundancy"
   ]
  },
  {
   "cell_type": "code",
   "execution_count": null,
   "id": "a17b1774",
   "metadata": {},
   "outputs": [],
   "source": [
    "feature_redundancy_ = feature_redundancy.feature_redundancy(df, train_split_index, labels_column, model)\n",
    "feature_redundancy_.pca()\n",
    "feature_redundancy_.pireson_correlation()\n",
    "feature_redundancy_.VIF()\n",
    "feature_redundancy_.eigen_vals()\n",
    "feature_redundancy_.homogeneity_corr()"
   ]
  },
  {
   "cell_type": "markdown",
   "id": "e675e22e",
   "metadata": {},
   "source": [
    "### Balance Check"
   ]
  },
  {
   "cell_type": "code",
   "execution_count": null,
   "id": "82ce50b6",
   "metadata": {},
   "outputs": [],
   "source": [
    "balance_ = balance.balance(df, train_split_index, labels_column, model)\n",
    "balance_.Balance_check()"
   ]
  },
  {
   "cell_type": "markdown",
   "id": "24be5815",
   "metadata": {},
   "source": [
    "### Error Analysis"
   ]
  },
  {
   "cell_type": "code",
   "execution_count": null,
   "id": "447daea4",
   "metadata": {},
   "outputs": [],
   "source": [
    "error_analysis_ = error_analysis.err_cluster(df, train_split_index, labels_column, model)\n",
    "error_analysis_.error_cluster()\n",
    "error_analysis_.train_score()\n",
    "error_analysis_.test_score()\n",
    "error_analysis_.false_negative()"
   ]
  },
  {
   "cell_type": "markdown",
   "id": "934a8f80",
   "metadata": {},
   "source": [
    "### Decision Tree"
   ]
  },
  {
   "cell_type": "code",
   "execution_count": null,
   "id": "61933561",
   "metadata": {},
   "outputs": [],
   "source": [
    "decision_tree_ = decision_tree.decision_tree_class(df, train_split_index, labels_column, model)\n",
    "decision_tree_.decision_tree()"
   ]
  },
  {
   "cell_type": "markdown",
   "id": "f53e6ac7",
   "metadata": {},
   "source": [
    "### Analysis"
   ]
  },
  {
   "cell_type": "code",
   "execution_count": null,
   "id": "cd882668",
   "metadata": {},
   "outputs": [],
   "source": [
    "Analysis_ = Analysis.Analysis(df, train_split_index, labels_column, model)\n",
    "Analysis_.PDP()\n",
    "Analysis_.ICE()\n",
    "Analysis_.ALE()\n",
    "Analysis_.Permutation_feature_importance()\n",
    "Analysis_.Global_Surrogate()\n",
    "Analysis_.LIME()\n",
    "Analysis_.shaply()"
   ]
  },
  {
   "cell_type": "markdown",
   "id": "dce5812c",
   "metadata": {},
   "source": [
    "### Edge Case "
   ]
  },
  {
   "cell_type": "code",
   "execution_count": null,
   "id": "8f147171",
   "metadata": {},
   "outputs": [],
   "source": [
    "edge_case_ = edge_case.edge_case(df, train_split_index, labels_column, model)\n",
    "edge_case_.edge_case_analysis()"
   ]
  },
  {
   "cell_type": "markdown",
   "id": "3ede3c98",
   "metadata": {},
   "source": [
    "### Continuous Variable"
   ]
  },
  {
   "cell_type": "code",
   "execution_count": null,
   "id": "693511e7",
   "metadata": {},
   "outputs": [],
   "source": [
    "continuous_variable_ = continuous_variable.continuous_variable(df, train_split_index, labels_column, model)\n",
    "continuous_variable_.r2()\n",
    "continuous_variable_.mse()\n",
    "continuous_variable_.chi_square()\n",
    "continuous_variable_.Kolmogorov_Smirnov()"
   ]
  }
 ],
 "metadata": {
  "kernelspec": {
   "display_name": "Python 3 (ipykernel)",
   "language": "python",
   "name": "python3"
  },
  "language_info": {
   "codemirror_mode": {
    "name": "ipython",
    "version": 3
   },
   "file_extension": ".py",
   "mimetype": "text/x-python",
   "name": "python",
   "nbconvert_exporter": "python",
   "pygments_lexer": "ipython3",
   "version": "3.9.13"
  }
 },
 "nbformat": 4,
 "nbformat_minor": 5
}
