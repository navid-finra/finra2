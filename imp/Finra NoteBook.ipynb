{
 "cells": [
  {
   "cell_type": "code",
   "execution_count": null,
   "id": "164c37d2",
   "metadata": {},
   "outputs": [],
   "source": [
    "import pandas as pd\n",
    "from sklearn.model_selection import train_test_split\n",
    "import numpy as np\n",
    "from matplotlib import pyplot as plt\n",
    "from sklearn.preprocessing import scale\n",
    "from sklearn.cluster import KMeans\n",
    "from scikitplot.helpers import binary_ks_curve\n",
    "from sklearn import svm\n",
    "from sklearn.metrics import confusion_matrix, accuracy_score\n",
    "from sklearn.metrics import recall_score, precision_score, f1_score, cohen_kappa_score\n",
    "from sklearn.metrics import confusion_matrix, roc_auc_score, roc_curve\n",
    "from sklearn.metrics import fbeta_score, matthews_corrcoef, average_precision_score\n",
    "from sklearn.metrics import log_loss, brier_score_loss, top_k_accuracy_score\n",
    "from sklearn.metrics import brier_score_loss, jaccard_score\n",
    "from sklearn.decomposition import PCA\n",
    "from psynlig import pca_residual_variance\n",
    "from imblearn.over_sampling import SMOTE \n",
    "from sklearn.tree import DecisionTreeClassifier\n",
    "from tabulate import tabulate\n",
    "from sklearn.tree import export_graphviz\n",
    "from scipy.stats import pearsonr\n",
    "import graphviz\n",
    "from sklearn import preprocessing\n",
    "import statistics\n",
    "import pickle\n",
    "import warnings\n",
    "warnings.filterwarnings('ignore')"
   ]
  },
  {
   "cell_type": "code",
   "execution_count": null,
   "id": "4ee7c7ab",
   "metadata": {},
   "outputs": [],
   "source": [
    "import Analysis\n",
    "import balance\n",
    "import continuous_variable\n",
    "import decision_tree\n",
    "import edge_case\n",
    "import error_analysis\n",
    "import feature_redundancy\n",
    "import finra\n",
    "import finra_calsses_main\n",
    "import functions\n",
    "import Sensitivity_Analysis"
   ]
  },
  {
   "cell_type": "code",
   "execution_count": null,
   "id": "2ab826c3",
   "metadata": {},
   "outputs": [],
   "source": [
    "import pandas as pd\n",
    "import argparse\n",
    "import logging\n",
    "import pickle\n",
    "\n",
    "parser = argparse.ArgumentParser()\n",
    "parser.add_argument('--input_data_path', type=str, required=True)\n",
    "parser.add_argument('--train_split_index', type=int, required=True)\n",
    "parser.add_argument('--labels_column', type=str, required=True)\n",
    "parser.add_argument('--model_path', type=str)\n",
    "parser.add_argument('--pickle_in', type=str, required=True)"
   ]
  },
  {
   "cell_type": "code",
   "execution_count": null,
   "id": "561f15a8",
   "metadata": {},
   "outputs": [],
   "source": [
    "plt.style.use('darak_background')"
   ]
  },
  {
   "cell_type": "code",
   "execution_count": null,
   "id": "3ae32b83",
   "metadata": {},
   "outputs": [],
   "source": [
    "args = parser.parse_args()\n",
    "train_split_index = args.train_split_index\n",
    "labels_column = args.labels_column\n",
    "model_path = args.model_path\n",
    "dbfile = open(args.pickle_in, 'rb') \n",
    "model = pickle.load(dbfile)\n",
    "df = pd.read_csv(args.input_data_path, index_col=0).reset_index(drop=True)"
   ]
  },
  {
   "cell_type": "markdown",
   "id": "3267224d",
   "metadata": {},
   "source": [
    "### Feature Redundancy"
   ]
  },
  {
   "cell_type": "code",
   "execution_count": null,
   "id": "31ccdc74",
   "metadata": {},
   "outputs": [],
   "source": [
    "feature_redundancy_ = feature_redundancy.feature_redundancy(df, train_split_index, labels_column, model)\n",
    "feature_redundancy_.pca()\n",
    "feature_redundancy_.pireson_correlation()\n",
    "feature_redundancy_.VIF()\n",
    "feature_redundancy_.eigen_vals()\n",
    "feature_redundancy_.homogeneity_corr()"
   ]
  },
  {
   "cell_type": "markdown",
   "id": "19c6e1dc",
   "metadata": {},
   "source": [
    "### Balance Check"
   ]
  },
  {
   "cell_type": "code",
   "execution_count": null,
   "id": "d5372f9c",
   "metadata": {},
   "outputs": [],
   "source": [
    "balance_ = balance.balance(df, train_split_index, labels_column, model)\n",
    "balance_.Balance_check()"
   ]
  },
  {
   "cell_type": "markdown",
   "id": "a4868dd5",
   "metadata": {},
   "source": [
    "### Error Analysis"
   ]
  },
  {
   "cell_type": "code",
   "execution_count": null,
   "id": "831a9184",
   "metadata": {},
   "outputs": [],
   "source": [
    "error_analysis_ = error_analysis.err_cluster(df, train_split_index, labels_column, model)\n",
    "error_analysis_.error_cluster()\n",
    "error_analysis_.train_score()\n",
    "error_analysis_.test_score()\n",
    "error_analysis_.false_negative()"
   ]
  },
  {
   "cell_type": "markdown",
   "id": "8757f400",
   "metadata": {},
   "source": [
    "### Decision Tree"
   ]
  },
  {
   "cell_type": "code",
   "execution_count": null,
   "id": "8a50bdce",
   "metadata": {},
   "outputs": [],
   "source": [
    "decision_tree_ = decision_tree.decision_tree_class(df, train_split_index, labels_column, model)\n",
    "decision_tree_.decision_tree()"
   ]
  },
  {
   "cell_type": "markdown",
   "id": "bd2d867b",
   "metadata": {},
   "source": [
    "### Analysis"
   ]
  },
  {
   "cell_type": "code",
   "execution_count": null,
   "id": "af76c32d",
   "metadata": {},
   "outputs": [],
   "source": [
    "Analysis_ = Analysis.Analysis(df, train_split_index, labels_column, model)\n",
    "Analysis_.PDP()\n",
    "Analysis_.ICE()\n",
    "Analysis_.ALE()\n",
    "Analysis_.Permutation_feature_importance()\n",
    "Analysis_.Global_Surrogate()\n",
    "Analysis_.LIME()"
   ]
  },
  {
   "cell_type": "markdown",
   "id": "29947c5a",
   "metadata": {},
   "source": [
    "### Edge Case "
   ]
  },
  {
   "cell_type": "code",
   "execution_count": null,
   "id": "4103c429",
   "metadata": {},
   "outputs": [],
   "source": [
    "edge_case_ = edge_case.edge_case(df, train_split_index, labels_column, model)\n",
    "edge_case_.edge_case_analysis()"
   ]
  },
  {
   "cell_type": "markdown",
   "id": "8fce36e9",
   "metadata": {},
   "source": [
    "### Continuous Variable"
   ]
  },
  {
   "cell_type": "code",
   "execution_count": null,
   "id": "012c0419",
   "metadata": {},
   "outputs": [],
   "source": [
    "continuous_variable_ = continuous_variable.continuous_variable(df, train_split_index, labels_column, model)\n",
    "continuous_variable_.r2()\n",
    "continuous_variable_.mse()\n",
    "continuous_variable_.chi_square()\n",
    "continuous_variable_.Kolmogorov_Smirnov()"
   ]
  }
 ],
 "metadata": {
  "kernelspec": {
   "display_name": "Python 3",
   "language": "python",
   "name": "python3"
  },
  "language_info": {
   "codemirror_mode": {
    "name": "ipython",
    "version": 3
   },
   "file_extension": ".py",
   "mimetype": "text/x-python",
   "name": "python",
   "nbconvert_exporter": "python",
   "pygments_lexer": "ipython3",
   "version": "3.8.8"
  }
 },
 "nbformat": 4,
 "nbformat_minor": 5
}
