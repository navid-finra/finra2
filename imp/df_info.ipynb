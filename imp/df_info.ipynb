{
 "cells": [
  {
   "cell_type": "code",
   "execution_count": 13,
   "id": "235d6425",
   "metadata": {},
   "outputs": [],
   "source": [
    "import pandas as pd\n",
    "def df_info(df, labels_col) :\n",
    "    ind = []\n",
    "    val = []\n",
    "    ind.append('features')\n",
    "    val.append(df.drop(columns = labels_col).shape[1])\n",
    "    ind.append('targets')\n",
    "    val.append(df[labels_col].shape[1])\n",
    "    ind.append('samples')\n",
    "    val.append(len(df))\n",
    "    ind.append('dimention')\n",
    "    val.append(str(df.shape))\n",
    "    ind.append('duplicated')\n",
    "    val.append(df.duplicated().sum())\n",
    "    ind.append('missing_values')\n",
    "    val.append(df.isnull().sum().sum())\n",
    "    ind.append('class_a_samples')\n",
    "    val.append(df.groupby(labels_col).size()[0])\n",
    "    ind.append('class_b_samples')\n",
    "    val.append(df.groupby(labels_col).size()[1])\n",
    "    ind.append('balance(class_a / class_b)')\n",
    "    val.append(df.groupby(labels_col).size()[0] / df.groupby(labels_col).size()[1])\n",
    "    rep_df = pd.DataFrame({\"ind\" : ind, \"val\" : val})\n",
    "    return(rep_df)"
   ]
  },
  {
   "cell_type": "code",
   "execution_count": 14,
   "id": "b7d7bb82",
   "metadata": {},
   "outputs": [
    {
     "data": {
      "text/html": [
       "<div>\n",
       "<style scoped>\n",
       "    .dataframe tbody tr th:only-of-type {\n",
       "        vertical-align: middle;\n",
       "    }\n",
       "\n",
       "    .dataframe tbody tr th {\n",
       "        vertical-align: top;\n",
       "    }\n",
       "\n",
       "    .dataframe thead th {\n",
       "        text-align: right;\n",
       "    }\n",
       "</style>\n",
       "<table border=\"1\" class=\"dataframe\">\n",
       "  <thead>\n",
       "    <tr style=\"text-align: right;\">\n",
       "      <th></th>\n",
       "      <th>ind</th>\n",
       "      <th>val</th>\n",
       "    </tr>\n",
       "  </thead>\n",
       "  <tbody>\n",
       "    <tr>\n",
       "      <th>0</th>\n",
       "      <td>features</td>\n",
       "      <td>31</td>\n",
       "    </tr>\n",
       "    <tr>\n",
       "      <th>1</th>\n",
       "      <td>targets</td>\n",
       "      <td>1</td>\n",
       "    </tr>\n",
       "    <tr>\n",
       "      <th>2</th>\n",
       "      <td>samples</td>\n",
       "      <td>574</td>\n",
       "    </tr>\n",
       "    <tr>\n",
       "      <th>3</th>\n",
       "      <td>dimention</td>\n",
       "      <td>(574, 32)</td>\n",
       "    </tr>\n",
       "    <tr>\n",
       "      <th>4</th>\n",
       "      <td>duplicated</td>\n",
       "      <td>5</td>\n",
       "    </tr>\n",
       "    <tr>\n",
       "      <th>5</th>\n",
       "      <td>missing_values</td>\n",
       "      <td>9</td>\n",
       "    </tr>\n",
       "    <tr>\n",
       "      <th>6</th>\n",
       "      <td>class_a_samples</td>\n",
       "      <td>361</td>\n",
       "    </tr>\n",
       "    <tr>\n",
       "      <th>7</th>\n",
       "      <td>class_b_samples</td>\n",
       "      <td>213</td>\n",
       "    </tr>\n",
       "    <tr>\n",
       "      <th>8</th>\n",
       "      <td>balance(class_a / class_b)</td>\n",
       "      <td>1.694836</td>\n",
       "    </tr>\n",
       "  </tbody>\n",
       "</table>\n",
       "</div>"
      ],
      "text/plain": [
       "                          ind        val\n",
       "0                    features         31\n",
       "1                     targets          1\n",
       "2                     samples        574\n",
       "3                   dimention  (574, 32)\n",
       "4                  duplicated          5\n",
       "5              missing_values          9\n",
       "6             class_a_samples        361\n",
       "7             class_b_samples        213\n",
       "8  balance(class_a / class_b)   1.694836"
      ]
     },
     "execution_count": 14,
     "metadata": {},
     "output_type": "execute_result"
    }
   ],
   "source": [
    "bc_data = pd.read_csv('./data.csv')\n",
    "targset_cols = ['diagnosis']\n",
    "df_info(bc_data, targset_cols)"
   ]
  },
  {
   "cell_type": "code",
   "execution_count": null,
   "id": "8c7d2bb1",
   "metadata": {},
   "outputs": [],
   "source": []
  },
  {
   "cell_type": "code",
   "execution_count": null,
   "id": "ce7c469a",
   "metadata": {},
   "outputs": [],
   "source": []
  }
 ],
 "metadata": {
  "kernelspec": {
   "display_name": "Python 3 (ipykernel)",
   "language": "python",
   "name": "python3"
  },
  "language_info": {
   "codemirror_mode": {
    "name": "ipython",
    "version": 3
   },
   "file_extension": ".py",
   "mimetype": "text/x-python",
   "name": "python",
   "nbconvert_exporter": "python",
   "pygments_lexer": "ipython3",
   "version": "3.9.12"
  }
 },
 "nbformat": 4,
 "nbformat_minor": 5
}
