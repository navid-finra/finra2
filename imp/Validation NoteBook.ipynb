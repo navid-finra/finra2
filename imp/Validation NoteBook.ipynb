{
 "cells": [
  {
   "cell_type": "code",
   "execution_count": null,
   "id": "a45e71ee",
   "metadata": {},
   "outputs": [],
   "source": [
    "from validation_classes_main import validation , cluster\n",
    "from feature_redundancy import feature_redundancy\n",
    "from balance import balance\n",
    "from error_analysis import err_cluster\n",
    "from decision_tree import decision_tree_class\n",
    "from Analysis import Analysis\n",
    "from Sensitivity_Analysis import Sensitivity_Analysis_class\n",
    "from edge_case import edge_case\n",
    "from continuous_variable import continuous_variable"
   ]
  },
  {
   "cell_type": "code",
   "execution_count": null,
   "id": "86899d21",
   "metadata": {},
   "outputs": [],
   "source": [
    "import pandas as pd\n",
    "import logging\n",
    "import pickle"
   ]
  },
  {
   "cell_type": "code",
   "execution_count": null,
   "id": "6cf3d124",
   "metadata": {},
   "outputs": [],
   "source": [
    "plt.style.use('darak_background')"
   ]
  },
  {
   "cell_type": "markdown",
   "id": "a443afe8",
   "metadata": {},
   "source": [
    "## Main Class"
   ]
  },
  {
   "cell_type": "code",
   "execution_count": null,
   "id": "0381c1f7",
   "metadata": {},
   "outputs": [],
   "source": [
    "validation_calsses_main_ = validation(x_train,x_test,y_train,y_test,model)\n",
    "cluster_ = cluster(x_train,x_test,y_train,y_test,model)"
   ]
  },
  {
   "cell_type": "markdown",
   "id": "7d3b0fe4",
   "metadata": {},
   "source": [
    "### Feature Redundancy"
   ]
  },
  {
   "cell_type": "code",
   "execution_count": null,
   "id": "a17b1774",
   "metadata": {},
   "outputs": [],
   "source": [
    "feature_redundancy_ = feature_redundancy(x_train,x_test,y_train,y_test,model)\n",
    "\n",
    "feature_redundancy_.pca()\n",
    "feature_redundancy_.pireson_correlation()\n",
    "feature_redundancy_.VIF()\n",
    "feature_redundancy_.eigen_vals()\n",
    "feature_redundancy_.homogeneity_corr()"
   ]
  },
  {
   "cell_type": "markdown",
   "id": "e675e22e",
   "metadata": {},
   "source": [
    "### Balance Check"
   ]
  },
  {
   "cell_type": "code",
   "execution_count": null,
   "id": "82ce50b6",
   "metadata": {},
   "outputs": [],
   "source": [
    "balance_ = balance(x_train,x_test,y_train,y_test,model)\n",
    "\n",
    "balance_.Balance_check()"
   ]
  },
  {
   "cell_type": "markdown",
   "id": "24be5815",
   "metadata": {},
   "source": [
    "### Error Analysis"
   ]
  },
  {
   "cell_type": "code",
   "execution_count": null,
   "id": "447daea4",
   "metadata": {},
   "outputs": [],
   "source": [
    "error_analysis_ = err_cluster(x_train,x_test,y_train,y_test,model)\n",
    "\n",
    "error_analysis_.error_cluster()\n",
    "error_analysis_.train_score()\n",
    "error_analysis_.test_score()\n",
    "error_analysis_.false_negative()"
   ]
  },
  {
   "cell_type": "markdown",
   "id": "934a8f80",
   "metadata": {},
   "source": [
    "### Decision Tree"
   ]
  },
  {
   "cell_type": "code",
   "execution_count": null,
   "id": "61933561",
   "metadata": {},
   "outputs": [],
   "source": [
    "decision_tree_ = decision_tree_class(x_train,x_test,y_train,y_test,model)\n",
    "decision_tree_.decision_tree()"
   ]
  },
  {
   "cell_type": "markdown",
   "id": "f53e6ac7",
   "metadata": {},
   "source": [
    "### Analysis"
   ]
  },
  {
   "cell_type": "code",
   "execution_count": null,
   "id": "cd882668",
   "metadata": {},
   "outputs": [],
   "source": [
    "Analysis_ = Analysis(x_train,x_test,y_train,y_test,model)\n",
    "Analysis_.PDP()\n",
    "Analysis_.ICE()\n",
    "Analysis_.ALE()\n",
    "Analysis_.Permutation_feature_importance()\n",
    "Analysis_.Global_Surrogate()\n",
    "Analysis_.LIME()\n",
    "Analysis_.shaply()"
   ]
  },
  {
   "cell_type": "markdown",
   "id": "dce5812c",
   "metadata": {},
   "source": [
    "### Edge Case "
   ]
  },
  {
   "cell_type": "code",
   "execution_count": null,
   "id": "8f147171",
   "metadata": {},
   "outputs": [],
   "source": [
    "edge_case_ = edge_case(x_train,x_test,y_train,y_test,model)\n",
    "edge_case_.edge_case_analysis()"
   ]
  },
  {
   "cell_type": "markdown",
   "id": "3ede3c98",
   "metadata": {},
   "source": [
    "### Continuous Variable"
   ]
  },
  {
   "cell_type": "code",
   "execution_count": null,
   "id": "693511e7",
   "metadata": {},
   "outputs": [],
   "source": [
    "continuous_variable_ = continuous_variable(x_train,x_test,y_train,y_test,model)\n",
    "\n",
    "continuous_variable_.r2()\n",
    "continuous_variable_.mse()\n",
    "continuous_variable_.chi_square()\n",
    "continuous_variable_.Kolmogorov_Smirnov()"
   ]
  }
 ],
 "metadata": {
  "kernelspec": {
   "display_name": "Python 3 (ipykernel)",
   "language": "python",
   "name": "python3"
  },
  "language_info": {
   "codemirror_mode": {
    "name": "ipython",
    "version": 3
   },
   "file_extension": ".py",
   "mimetype": "text/x-python",
   "name": "python",
   "nbconvert_exporter": "python",
   "pygments_lexer": "ipython3",
   "version": "3.9.13"
  }
 },
 "nbformat": 4,
 "nbformat_minor": 5
}
